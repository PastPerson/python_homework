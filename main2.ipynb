{
 "cells": [
  {
   "cell_type": "code",
   "execution_count": 88,
   "metadata": {},
   "outputs": [],
   "source": [
    "import random"
   ]
  },
  {
   "cell_type": "markdown",
   "metadata": {},
   "source": [
    "랜덤함수 사용을 위해 import"
   ]
  },
  {
   "cell_type": "code",
   "execution_count": 89,
   "metadata": {},
   "outputs": [],
   "source": [
    "cost = 30000"
   ]
  },
  {
   "cell_type": "markdown",
   "metadata": {},
   "source": [
    "초기 자본금 설정"
   ]
  },
  {
   "cell_type": "code",
   "execution_count": 90,
   "metadata": {},
   "outputs": [],
   "source": [
    "low_flag, high_flag = -1, -1"
   ]
  },
  {
   "cell_type": "markdown",
   "metadata": {},
   "source": [
    "20000원과 40000원에 도달했을 떄 한번만 출력하기 위해 flag설정"
   ]
  },
  {
   "cell_type": "code",
   "execution_count": 91,
   "metadata": {},
   "outputs": [],
   "source": [
    "count = 1\n",
    "while low_flag == -1 or high_flag == -1:\n",
    "    if random.randint(0, 1) == 0:\n",
    "        cost -= 1000\n",
    "        if cost < 20000 and low_flag == -1:\n",
    "            low_flag = count\n",
    "    else:\n",
    "        cost += 1000\n",
    "        if cost > 40000 and high_flag == -1:\n",
    "            high_flag = count\n",
    "    count += 1"
   ]
  },
  {
   "cell_type": "markdown",
   "metadata": {},
   "source": [
    "1. count를 설정\n",
    "2. 20000원일 때와 40000원일 때에 모두 도달했을 때 정지.\n",
    "3. 랜덤으로 0과 1을 출력, 0일때는 1000원을 잃고 1일때는 얻음\n",
    "4. 1000원을 잃음\n",
    "5. 20000원에 처음 도달하였을 떄 기록\n",
    "6. 처음 도달했을때의 count를 flag에 기록\n",
    "7. 랜덤으로 1이 나왔을 때 \n",
    "8. 1000원을 얻음\n",
    "9. 만일 처음으로 40000원애 도달한다면\n",
    "10. 현재의 count를 기록\n",
    "11. 매 회차마다 count 증가"
   ]
  },
  {
   "cell_type": "code",
   "execution_count": 92,
   "metadata": {},
   "outputs": [
    {
     "name": "stdout",
     "output_type": "stream",
     "text": [
      "20000원 미만:  29\n"
     ]
    }
   ],
   "source": [
    "print(\"20000원 미만: \", low_flag)"
   ]
  },
  {
   "cell_type": "markdown",
   "metadata": {},
   "source": [
    "처음으로 20000원 미만으로 떨어진 시점 출력"
   ]
  },
  {
   "cell_type": "code",
   "execution_count": 93,
   "metadata": {},
   "outputs": [
    {
     "name": "stdout",
     "output_type": "stream",
     "text": [
      "40000원 초과:  793\n"
     ]
    }
   ],
   "source": [
    "print(\"40000원 초과: \", high_flag)"
   ]
  },
  {
   "cell_type": "markdown",
   "metadata": {},
   "source": [
    "처음으로 40000원을 넘게 되는 시점 출력"
   ]
  }
 ],
 "metadata": {
  "kernelspec": {
   "display_name": "Python 3",
   "language": "python",
   "name": "python3"
  },
  "language_info": {
   "codemirror_mode": {
    "name": "ipython",
    "version": 3
   },
   "file_extension": ".py",
   "mimetype": "text/x-python",
   "name": "python",
   "nbconvert_exporter": "python",
   "pygments_lexer": "ipython3",
   "version": "3.10.11"
  }
 },
 "nbformat": 4,
 "nbformat_minor": 2
}
